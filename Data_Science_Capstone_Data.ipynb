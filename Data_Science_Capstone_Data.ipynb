{
 "cells": [
  {
   "cell_type": "markdown",
   "metadata": {},
   "source": [
    "<h1>Using location data to setup Healthy Food Centers in New York city</h1>"
   ]
  },
  {
   "cell_type": "markdown",
   "metadata": {},
   "source": [
    "## 1. INTRODUCTION"
   ]
  },
  {
   "cell_type": "markdown",
   "metadata": {},
   "source": [
    "Technology has taken over literally everything in every aspects of our life. It has made our lives easier, better and more enjoyable. People are no longer required to put on gruesome efforts to get things done. Do you remember the last time when you sweat profusely while doing some household or professional activity? For most of us the answer would be a big NO. And with all these leisure and comfort, technology has also brought numerous health problems due to lack of physical activity. Another important aspect to be mentioned here is the damage that unhealthy food habits have inflicted upon us. Both these factors have led to many health problems.\n",
    "\n",
    "In recent years, people have been able to understand the ill-effects of comfort which technology has provided and they have got conscious about their health and are determined to stay fit and healthy. This is why we have seen a tremendous increase in the number of people enrolling for fitness activities like Gym or Yoga. \n",
    "\n",
    "All these has led to a steady increase in the demand of healthy foods. Off late, there has been a realisation across the globe, with respect to health and wellness. Most people these days make it a point to invest their time and energy into staying fit and eating right. The global wellness industry grew 12.8 percent from 2015-2017, from a 3.7 trillion dollar to a 4.2 trillion dollar market. To put that in the economic context, from 2015-2017, the wellness economy grew 6.4 percent annually, nearly twice as fast as global economic growth (3.6 percent). (source: https://globalwellnessinstitute.org). There is a huge scope and untapped market still to be explored in healthy food sector.\n",
    "\n",
    "Business Ventures which decide to open their chain of healthy food centers across a geographical area has to keep a lot of things in mind and as most of us know, among the 4 P's of business marketing, Place holds a vital role. A perfect location helps the business to grow manifolds, but finding that location is really a challenging task. The location should be easily accessible to the targeted consumer base, otherwise it might not be profitable to run the business.\n",
    "\n",
    "From the perspective of data science, following can be stated in this context:\n",
    "\n",
    "**Problem**: To find out locations where *healthy food centers* can be opened in New York city.\n",
    "\n",
    "**Stakeholders**: The Business Ventures which are interested in opening healthy food centers or chain of healthy food centers across the city of New York.\n",
    "\n",
    "**Solution outline**: We shall be using location data (provided by Foursquare) to find out clusters of gym and yoga venues and propose a set of approximate locations where the healthy food centers can be opened.\n"
   ]
  },
  {
   "cell_type": "markdown",
   "metadata": {},
   "source": [
    "\n",
    "## 2. DATA"
   ]
  },
  {
   "cell_type": "markdown",
   "metadata": {},
   "source": [
    "The target customer base for a healthy food center are the fitness conscious people. They are the primary and the returning customers and contribute to the majority of the revenue. This is why the store location has to be in vicinity of these people.\n",
    "\n",
    "So where can we find these people at a large scale? The answer lies in the fact that these people frequent gym and yoga venues. So, we can make a strategy as following:\n",
    "\n",
    "**1. Find the co-ordinates of New York city and decide a radius till which the location data shall be fetched.**\n",
    "        Here we have taken 20 miles as the radius of New York city.\n",
    "        \n",
    "**2. Using the location data provided by Foursquare API, find the venues of Gym and Yoga along with their geographical co-ordinates.**\n",
    "        Foursquare search API returns 50 venues at a time for each search hit. So, here we have made two search hits, one for 'Gym' and another for 'Yoga'. The results of these searches are later joined and a dataframe of size 100 has been formed which forms the basis of all venues under consideration.\n",
    "        For example, a sample refined dataset would look like this:\n",
    "        \n",
    "|   | name                  | address       | lat       | lng        |\n",
    "|---|-----------------------|---------------|-----------|------------|\n",
    "| 0 | New York by Gehry Gym | 8 Spruce St.  | 40.710655 | -74.005709 |\n",
    "| 1 | Gym @ Barclay Tower   | 10 Barclay St | 40.712360 | -74.009429 |\n",
    "        \n",
    "**3. Cluster these locations using k-means clustering algorithm (cluster size of 7 is taken in this case)**\n",
    "        After all the venues are finalized, they are clustered based on their latitude and longitude values into 7 distinct clusters with a centroid in each.\n",
    "\n",
    "**4. Each centroid of individual clusters can be a good proposition for opening a healthy food center, since it is equidistantly situated among all the venues in that cluster.**\n",
    "        Cluster centroids have almost same distances from cluster members or venues in the cluster. So if a particular cluster has 5 venues in it, the centroid should nearly be equidistant from those 5 members. This way, people visiting those venues can have a healthy food center which is located centrally among them.\n",
    "        \n",
    "We shall be proposing the probable best locations for opening shops as the cluster centroids' locations.        "
   ]
  }
 ],
 "metadata": {
  "kernelspec": {
   "display_name": "Python",
   "language": "python",
   "name": "conda-env-python-py"
  },
  "language_info": {
   "codemirror_mode": {
    "name": "ipython",
    "version": 3
   },
   "file_extension": ".py",
   "mimetype": "text/x-python",
   "name": "python",
   "nbconvert_exporter": "python",
   "pygments_lexer": "ipython3",
   "version": "3.6.7"
  }
 },
 "nbformat": 4,
 "nbformat_minor": 4
}
