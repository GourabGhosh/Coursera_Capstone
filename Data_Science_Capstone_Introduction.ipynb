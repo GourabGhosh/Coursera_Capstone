{
 "cells": [
  {
   "cell_type": "markdown",
   "metadata": {},
   "source": [
    "<h1>Using location data to setup Healthy Food Centers in New York city</h1>"
   ]
  },
  {
   "cell_type": "markdown",
   "metadata": {},
   "source": [
    "## 1. INTRODUCTION"
   ]
  },
  {
   "cell_type": "markdown",
   "metadata": {},
   "source": [
    "Technology has taken over literally everything in every aspects of our life. It has made our lives easier, better and more enjoyable. People are no longer required to put on gruesome efforts to get things done. Do you remember the last time when you sweat profusely while doing some household or professional activity? For most of us the answer would be a big NO. And with all these leisure and comfort, technology has also brought numerous health problems due to lack of physical activity. Another important aspect to be mentioned here is the damage that unhealthy food habits have inflicted upon us. Both these factors have led to many health problems.\n",
    "\n",
    "In recent years, people have been able to understand the ill-effects of comfort which technology has provided and they have got conscious about their health and are determined to stay fit and healthy. This is why we have seen a tremendous increase in the number of people enrolling for fitness activities like Gym or Yoga. \n",
    "\n",
    "All these has led to a steady increase in the demand of healthy foods. Off late, there has been a realisation across the globe, with respect to health and wellness. Most people these days make it a point to invest their time and energy into staying fit and eating right. The global wellness industry grew 12.8 percent from 2015-2017, from a 3.7 trillion dollar to a 4.2 trillion dollar market. To put that in the economic context, from 2015-2017, the wellness economy grew 6.4 percent annually, nearly twice as fast as global economic growth (3.6 percent). (source: https://globalwellnessinstitute.org). There is a huge scope and untapped market still to be explored in healthy food sector.\n",
    "\n",
    "Business Ventures which decide to open their chain of healthy food centers across a geographical area has to keep a lot of things in mind and as most of us know, among the 4 P's of business marketing, Place holds a vital role. A perfect location helps the business to grow manifolds, but finding that location is really a challenging task. The location should be easily accessible to the targeted consumer base, otherwise it might not be profitable to run the business.\n",
    "\n",
    "From the perspective of data science, following can be stated in this context:\n",
    "\n",
    "**Problem**: To find out locations where *healthy food centers* can be opened in New York city.\n",
    "\n",
    "**Stakeholders**: The Business Ventures which are interested in opening healthy food centers or chain of healthy food centers across the city of New York.\n",
    "\n",
    "**Solution outline**: We shall be using location data (provided by Foursquare) to find out clusters of gym and yoga venues and propose a set of approximate locations where the healthy food centers can be opened.\n"
   ]
  }
 ],
 "metadata": {
  "kernelspec": {
   "display_name": "Python",
   "language": "python",
   "name": "conda-env-python-py"
  },
  "language_info": {
   "codemirror_mode": {
    "name": "ipython",
    "version": 3
   },
   "file_extension": ".py",
   "mimetype": "text/x-python",
   "name": "python",
   "nbconvert_exporter": "python",
   "pygments_lexer": "ipython3",
   "version": "3.6.7"
  }
 },
 "nbformat": 4,
 "nbformat_minor": 4
}
