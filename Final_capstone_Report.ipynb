{
 "cells": [
  {
   "cell_type": "markdown",
   "metadata": {},
   "source": [
    "<h1><center>Using location data to find profitable locations to setup Healthy Food Centers in New York city</center></h1>"
   ]
  },
  {
   "cell_type": "markdown",
   "metadata": {},
   "source": [
    "<h2 style=\"font-weight:normal\"><center>Gourab Ghosh</center></h2>\n",
    "<h2 style=\"font-weight:normal\"><center>16 August, 2019</center></h2>"
   ]
  },
  {
   "cell_type": "markdown",
   "metadata": {},
   "source": [
    "## 1. INTRODUCTION"
   ]
  },
  {
   "cell_type": "markdown",
   "metadata": {},
   "source": [
    "### 1.1 Background\n",
    "Technology has taken over literally everything in every aspects of our life. It has made our lives easier, better and more enjoyable. People are no longer required to put on gruesome efforts to get things done. Do you remember the last time when you sweat profusely while doing some household or professional activity? For most of us the answer would be a big NO. And with all these leisure and comfort, technology has also brought numerous health problems due to lack of physical activity. Another important aspect to be mentioned here is the damage that unhealthy food habits have inflicted upon us. Both these factors have led to many health problems.\n",
    "\n",
    "In recent years, people have been able to understand the ill-effects of comfort which technology has provided and they have got conscious about their health and are determined to stay fit and healthy. This is why we have seen a tremendous increase in the number of people enrolling for fitness activities like Gym or Yoga. \n",
    "\n",
    "All these has led to a steady increase in the demand of healthy foods. Off late, there has been a realisation across the globe, with respect to health and wellness. Most people these days make it a point to invest their time and energy into staying fit and eating right. The global wellness industry grew 12.8 percent from 2015-2017, from a 3.7 trillion dollar to a 4.2 trillion dollar market. To put that in the economic context, from 2015-2017, the wellness economy grew 6.4 percent annually, nearly twice as fast as global economic growth (3.6 percent). (source: https://globalwellnessinstitute.org). There is a huge scope and untapped market still to be explored in healthy food sector.\n",
    "\n",
    "### 1.2 Problem\n",
    "Business Ventures which decide to open their chain of healthy food centers across a geographical area has to keep a lot of things in mind and as most of us know, among the 4 P's of business marketing, Place holds a vital role. A perfect location helps the business to grow manifolds, but finding that location is really a challenging task. The location should be easily accessible to the targeted consumer base, otherwise it might not be profitable to run the business.\n",
    "This project aims to predict profitable locations where *healthy food centers* can be opened in New York city.\n",
    "\n",
    "### 1.3 Interest\n",
    "The Business Ventures which are interested in opening healthy food centers or chain of healthy food centers across the city of New York are the prime audience in this case. Additionally, people interested in reality sector, angel investing and data science may also be a suitable audience for this report.\n"
   ]
  },
  {
   "cell_type": "markdown",
   "metadata": {},
   "source": [
    "\n",
    "## 2. DATA"
   ]
  },
  {
   "cell_type": "markdown",
   "metadata": {},
   "source": [
    "The target customer base for a healthy food center are the fitness conscious people. They are the primary and the returning customers and contribute to the majority of the revenue. This is why the store location has to be in vicinity of these people.\n",
    "\n",
    "So where can we find these people at a large scale? The answer lies in the fact that these people frequent gym and yoga venues.\n",
    "\n",
    "### 2.1 Data Sources\n",
    "Foursquare is one of the leading location data providers in the world. It not only provides precise location data but also gives related details along with it. We shall be using the Places API provided by Foursquare and fetch venues as per our search terms. For this, one needs to open an account in Foursquare developer space (https://developer.foursquare.com). We have used the free plan for this account.\n",
    "\n",
    "### 2.2 Data cleaning and Feature selection\n",
    "The venue search API of Foursquare returns a list of places around a particular place within a certain radius. We have taken the center around New York city and made the searches. For this searches, we have considered the radius of New York city as 20 miles (32187 meters).\n",
    "\n",
    "In the free plan of Foursquare, a maximum of 50 venues are returned per search. Therefore, we have made two search hits - one for 'Gym' and another for 'Yoga'. Next we have refined each result set to transform the search data into a more readable and analysable format.\n",
    "\n",
    "As a next step, both the result sets are appended together to form the master location dataset. This dataset still contains a lot of redundant/unnecessary data about the venues which are not required for our study. So, we filter and remove those columns and keep only the name, address and the latitude and the longitude columns. The dataset at this stage looks like the following:\n",
    "\n",
    "|   | name                  | address       | lat       | lng        |\n",
    "|---|-----------------------|---------------|-----------|------------|\n",
    "| 0 | New York by Gehry Gym | 8 Spruce St.  | 40.710655 | -74.005709 |\n",
    "| 1 | Gym @ Barclay Tower   | 10 Barclay St | 40.712360 | -74.009429 |\n",
    "\n",
    "       "
   ]
  },
  {
   "cell_type": "markdown",
   "metadata": {},
   "source": [
    "\n",
    "## 3. METHODOLOGY"
   ]
  },
  {
   "cell_type": "markdown",
   "metadata": {},
   "source": [
    "As stated earlier, the concentration and footfall of health conscious people is expected to be more around the areas where there are fitness centers, gym or yoga studios. There the prospect of a healthy food center is better than other places. People tend to buy food items for consumption after or before their workouts.\n",
    "\n",
    "### 3.1 Calculation of target variable\n",
    "The target variable is the latitude and longitude of the gym or yoga studio venues. We need this sole location data to build our model.\n",
    "\n",
    "### 3.2 Clustering of venues\n",
    "Next, we move on to cluster the venues based on their latitude and longitude. This will be providing a congregation of similar venues which are geographically located near to each other. This ensures maximum density of health conscious people around the area.\n",
    "\n",
    "**k-means** is  one of  the simplest unsupervised  learning  algorithms  that  solve  the well  known clustering problem. The procedure follows a simple and  easy  way  to classify a given data set  through a certain number of  clusters (assume k clusters) fixed apriori. The  main  idea  is to define k centers, one for each cluster. These centers  should  be placed in a cunning  way  because of  different  location  causes different  result. So, the better  choice  is  to place them  as  much as possible  far away from each other. The  next  step is to take each point belonging  to a  given data set and associate it to the nearest center. When no point  is  pending,  the first step is completed and an early group age  is done. At this point we need to re-calculate k new centroids as barycenter of  the clusters resulting from the previous step. After we have these k new centroids, a new binding has to be done  between  the same data set points  and  the nearest new center. A loop has been generated. As a result of  this loop we  may  notice that the k centers change their location step by step until no more changes  are done or  in  other words centers do not move any more. Finally, this  algorithm  aims at  minimizing  an objective function know as squared error function given by:  \n",
    "                                                                       \n",
    "where,\n",
    "                           ‘||xi - vj||’ is the Euclidean distance between xi and vj.\n",
    "                           ‘ci’ is the number of data points in ith cluster. \n",
    "\n",
    "                           ‘c’ is the number of cluster centers.\n",
    "\n",
    "\n",
    "Algorithmic steps for k-means clustering\n",
    "\n",
    "Let  X = {x1,x2,x3,……..,xn} be the set of data points and V = {v1,v2,…….,vc} be the set of centers.\n",
    "\n",
    "1) Randomly select ‘c’ cluster centers.\n",
    "\n",
    "2) Calculate the distance between each data point and cluster centers.\n",
    "\n",
    "3) Assign the data point to the cluster center whose distance from the cluster center is minimum of all the cluster centers..\n",
    "\n",
    "4) Recalculate the new cluster center using:\n",
    "\n",
    "![](kmeans1.jpg)\n",
    "\n",
    "where, ‘ci’ represents the number of data points in ith cluster.\n",
    "\n",
    "5) Recalculate the distance between each data point and new obtained cluster centers.\n",
    "\n",
    "6) If no data point was reassigned then stop, otherwise repeat from step 3).\n",
    "\n",
    "<BR><BR>\n",
    "Here we have taken the number of clusters to be 7 considering the size of available datapoints. The number of clusters to be generated can vary depending upon the size of location venues and the business need.\n",
    "    \n",
    "### 3.3 Plotting on map\n",
    "We generate a map of New York and on that map, we put all the location dataset members (the fitness venues of gym or yoga) using colored circles. Each cluster points are colored in a unique color to separate it out visually from the other clusters. We can see 7 distinct colored points on the map.\n",
    "\n",
    "Finally, we get the centroids of each cluster and also plot them on the map in black colored circles."
   ]
  },
  {
   "cell_type": "markdown",
   "metadata": {},
   "source": [
    "\n",
    "## 4. RESULTS"
   ]
  },
  {
   "cell_type": "markdown",
   "metadata": {},
   "source": [
    "After the successful execution of the kmeans clustering, we get 7 distinct clusters. The following map shows the same:\n",
    "\n",
    "![Map of New York with gym and yoga venues clustered on top](newyork_clusters.png)\n",
    "\n",
    "From he kmeans clustering, we also get the centroids for these 7 clusters. The location of the centroids are as follows:\n",
    "\n",
    "![Centroids of clusters](centroids.png)\n",
    "\n",
    "Once we have these centroids, we plot them on top of the existing map containing clusters data. The centroids are colored in black circles. The following map shows the same:\n",
    "\n",
    "![Map of New York with gym and yoga venues clustered on top with centroids](newyork_clusters_with_centroids.png)"
   ]
  },
  {
   "cell_type": "markdown",
   "metadata": {},
   "source": [
    "\n",
    "## 5. DISCUSSION"
   ]
  },
  {
   "cell_type": "markdown",
   "metadata": {},
   "source": [
    "From the map shown above, we can conclude that our clustering mechanism shows lower Manhattan bay area as having the most dense occurrence of gym and yoga centers. The area is colored in violet. The centroid location centered there with co-ordinates as **(40.71255502453713,-74.00864113580623)** near Barclay Street can be the most profitable venue to open a healthy food center. In real life, the venue of the food center can vary based on budget and other constraints to a certain permissible extent.\n",
    "\n",
    "![](cluster1.png)\n",
    "\n",
    "The second most profitable location is the area around Bond Street with co-ordinates as **(40.72619606949153,-73.99339449287002)** marked by deep orange color in this map. It has density lesser than the first one.\n",
    "\n",
    "![](cluster2.png)\n",
    "\n",
    "The third most profitable lcoation is the area around Tillary Street with co-ordinates as **(40.6958098909231,-73.98659838836905)** marked by deep blue color in this map. It has density lesser than the first and the second one.\n",
    "\n",
    "![](cluster3.png)\n",
    "\n",
    "This way, we can see other points also. But the thing is that density falls drastically in the other clusters and the venues are located far away from each other. So, it is doubtful whether opening up a healthy food center will really be helpful in those places or not."
   ]
  },
  {
   "cell_type": "markdown",
   "metadata": {},
   "source": [
    "\n",
    "## 6. CONCLUSION"
   ]
  },
  {
   "cell_type": "markdown",
   "metadata": {},
   "source": [
    "We can conclude that location data along with data clustering techniques can be a helpful tool in predicting the profitable locations for a healthy food chain stores in a city.\n",
    "\n",
    "Since the city of New York is very big in size and there are numerous gym and yoga centers, we can improve the efficiency of our method by running the study based on specific boroughs of the city. For example, we can take Manhattan as the base location and by taking its radius, we perform the search for location datasets. This can significantly improve the prediction. \n",
    "\n",
    "Also, if some business owner is interested in opening up the store in a preferred borough of his/her, we can take the center of our study around that location and make searches."
   ]
  }
 ],
 "metadata": {
  "kernelspec": {
   "display_name": "Python",
   "language": "python",
   "name": "conda-env-python-py"
  },
  "language_info": {
   "codemirror_mode": {
    "name": "ipython",
    "version": 3
   },
   "file_extension": ".py",
   "mimetype": "text/x-python",
   "name": "python",
   "nbconvert_exporter": "python",
   "pygments_lexer": "ipython3",
   "version": "3.6.7"
  },
  "widgets": {
   "state": {},
   "version": "1.1.2"
  }
 },
 "nbformat": 4,
 "nbformat_minor": 4
}
